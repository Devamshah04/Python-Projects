{
  "nbformat": 4,
  "nbformat_minor": 0,
  "metadata": {
    "colab": {
      "provenance": [],
      "include_colab_link": true
    },
    "kernelspec": {
      "name": "python3",
      "display_name": "Python 3"
    }
  },
  "cells": [
    {
      "cell_type": "markdown",
      "metadata": {
        "id": "view-in-github",
        "colab_type": "text"
      },
      "source": [
        "<a href=\"https://colab.research.google.com/github/Devamshah04/Python-Projects/blob/main/Bengaluru%20House%20Prices%20-%20Data%20Cleaning.ipynb\" target=\"_parent\"><img src=\"https://colab.research.google.com/assets/colab-badge.svg\" alt=\"Open In Colab\"/></a>"
      ]
    },
    {
      "cell_type": "markdown",
      "metadata": {
        "id": "UYmMpXkNw9I6"
      },
      "source": [
        "# Project 7: Bengaluru House Prices - Data Cleaning\n"
      ]
    },
    {
      "cell_type": "markdown",
      "metadata": {
        "id": "PaanjkTewd2U"
      },
      "source": [
        "---"
      ]
    },
    {
      "cell_type": "markdown",
      "metadata": {
        "id": "x9vfVAsbslya"
      },
      "source": [
        "### Context\n",
        "\n",
        "A techie residing in Mumbai who is a data scientist got an excellent job opportunity from one of his dream company in Bengaluru. Now, he wants to shift to Bengaluru soon and decides to buy a home in the city.\n",
        "The lack of trust in property developers in the city resulted in a drop of 7% in the housing units sales across India in 2017. The property prices in Bengaluru fell by almost 5% in the second half of 2017, said a study published by a property consultancy firm called Knight Frank. Here's the link to the news article:\n",
        "\n",
        "[Residential real estate prices drop 3% in big cities\n",
        "](https://www.businesstoday.in/sectors/infra/residential-real-estate-prices-property-drop-3-per-cent-realty/story/267752.html)\n",
        "\n",
        "Buying a home, especially in a city like Bengaluru, is a tricky choice. While the major factors are usually the same for all metro cities, there are others to be considered for the Silicon Valley of India. Because of the millennial crowd, vibrant culture, great climate and a slew of job opportunities in Bengaluru, it is difficult to ascertain the price of a house in the city.\n",
        "As he is a data scientist he finds the dataset for Bengaluru house prices on the internet.\n",
        "\n",
        "The dataset he found was vast with some useless information and some of the empty values, he only wants to extract some of the useful information from the dataset."
      ]
    },
    {
      "cell_type": "markdown",
      "metadata": {
        "id": "G9pdov_M0nzo"
      },
      "source": [
        "---"
      ]
    },
    {
      "cell_type": "markdown",
      "metadata": {
        "id": "M8b9tQ1DyJ3j"
      },
      "source": [
        "### Problem Statement\n",
        "\n",
        "The dataset acquired by the techie is full of irregularities, incorrect values and missing values. As a data scientist (or analyst in this context), your task is to clean the dataset given to you in this problem statement.\n",
        "\n",
        "This process of preparing data for analysis by removing or modifying data that is incorrect, incomplete, irrelevant, duplicated, or improperly formatted is known as data cleaning.\n"
      ]
    },
    {
      "cell_type": "markdown",
      "metadata": {
        "id": "wDxT79GYyJIk"
      },
      "source": [
        "---"
      ]
    },
    {
      "cell_type": "markdown",
      "metadata": {
        "id": "fIhOaLdkoGzK"
      },
      "source": [
        "---"
      ]
    },
    {
      "cell_type": "markdown",
      "metadata": {
        "id": "dubnW7ER0mZG"
      },
      "source": [
        "### Dataset Information\n",
        "\n",
        "This dataset contains several factors that a potential home buyer considers before purchasing a house. They are the following:\n",
        "\n",
        "1. `area_type`: Whether the house has a built-up area or plot area.\n",
        "\n",
        "2. `availability`: Whether the house is in the ready-to-move state or the exact date on which the house will be ready for occupancy.\n",
        "\n",
        "3. `location`: The name of the locality in Bengaluru where the house is situated.\n",
        "\n",
        "4. `size`: Whether the house is 1 BHK, 2 BHK, 3 BHK etc. The term BHK stands for *Bedroom, Hall & Kitchen*.\n",
        "\n",
        "5. `society`: Name of the society where the house is located.\n",
        "\n",
        "6. `total_sqft`: The total area of the house in square feet.\n",
        "\n",
        "7. `bath`: Number of bathrooms in the house.\n",
        "\n",
        "8. `balcony`: Number of balconies in the house.\n",
        "\n",
        "9. `price`: Price of the house in lakhs (Indian rupees).\n"
      ]
    },
    {
      "cell_type": "markdown",
      "metadata": {
        "id": "TUjdyP2EyGtK"
      },
      "source": [
        "---"
      ]
    },
    {
      "cell_type": "markdown",
      "metadata": {
        "id": "toeLx5LJpIV-"
      },
      "source": [
        "### Things To Do\n",
        "\n",
        "- Create a Pandas DataFrame for the Bengaluru house prices dataset.\n",
        "\n",
        "- Find the missing values in the DataFrame and replace them with the right missing values. However, if a column has more than 15% missing values then drop (or remove) the column from the DataFrame except for the `location, size` and `total_sqft` columns because the house prices are directly dependent on these three crucial parameters. *In fact, the rate of a house is reported as a cost per unit area of the house*.\n",
        "\n",
        "- Drop (or remove) the rows containing the missing values in the `location,\tsize` and `total_sqft` columns. Additionally, drop any row which contains nonsensical values in the context of houses."
      ]
    },
    {
      "cell_type": "markdown",
      "metadata": {
        "id": "5JRlGIBRqCGl"
      },
      "source": [
        "---"
      ]
    },
    {
      "cell_type": "markdown",
      "metadata": {
        "id": "UCusTfW0tcxe"
      },
      "source": [
        "#### 1. Import Modules\n",
        "\n",
        "First import all the necessary modules to create a DataFrame and box plots."
      ]
    },
    {
      "cell_type": "code",
      "metadata": {
        "id": "6RL71w3ntzcH"
      },
      "source": [
        "# Import the necessary modules.\n",
        "import numpy as np\n",
        "import pandas as pd\n",
        "import matplotlib.pyplot as plt"
      ],
      "execution_count": null,
      "outputs": []
    },
    {
      "cell_type": "markdown",
      "metadata": {
        "id": "RETr5Tv1JBls"
      },
      "source": [
        "---"
      ]
    },
    {
      "cell_type": "markdown",
      "metadata": {
        "id": "ozinbHmwt34m"
      },
      "source": [
        "#### 2. Load The Dataset\n",
        "\n",
        "Create a Pandas DataFrame by loading the dataset which is provided in the comma-separated values (CSV) file. Also, display the number of rows and columns in the DataFrame. Here's the link to the dataset:\n",
        "\n",
        "https://student-datasets-bucket.s3.ap-south-1.amazonaws.com/whitehat-ds-datasets/bengaluru-house-prices/Bengaluru_House_Prices.csv"
      ]
    },
    {
      "cell_type": "code",
      "metadata": {
        "id": "6aLwGMehuABF",
        "colab": {
          "base_uri": "https://localhost:8080/",
          "height": 402
        },
        "outputId": "bd5ee97d-c8e9-4529-ed4d-4a558b485f8a"
      },
      "source": [
        "# Load the dataset.\n",
        "Ban_hp_df = pd.read_csv(\"https://student-datasets-bucket.s3.ap-south-1.amazonaws.com/whitehat-ds-datasets/bengaluru-house-prices/Bengaluru_House_Prices.csv\")\n",
        "Ban_hp_df"
      ],
      "execution_count": null,
      "outputs": [
        {
          "output_type": "execute_result",
          "data": {
            "text/html": [
              "<div>\n",
              "<style scoped>\n",
              "    .dataframe tbody tr th:only-of-type {\n",
              "        vertical-align: middle;\n",
              "    }\n",
              "\n",
              "    .dataframe tbody tr th {\n",
              "        vertical-align: top;\n",
              "    }\n",
              "\n",
              "    .dataframe thead th {\n",
              "        text-align: right;\n",
              "    }\n",
              "</style>\n",
              "<table border=\"1\" class=\"dataframe\">\n",
              "  <thead>\n",
              "    <tr style=\"text-align: right;\">\n",
              "      <th></th>\n",
              "      <th>area_type</th>\n",
              "      <th>availability</th>\n",
              "      <th>location</th>\n",
              "      <th>size</th>\n",
              "      <th>society</th>\n",
              "      <th>total_sqft</th>\n",
              "      <th>bath</th>\n",
              "      <th>balcony</th>\n",
              "      <th>price</th>\n",
              "    </tr>\n",
              "  </thead>\n",
              "  <tbody>\n",
              "    <tr>\n",
              "      <th>0</th>\n",
              "      <td>Super built-up  Area</td>\n",
              "      <td>19-Dec</td>\n",
              "      <td>Electronic City Phase II</td>\n",
              "      <td>2 BHK</td>\n",
              "      <td>Coomee</td>\n",
              "      <td>1056</td>\n",
              "      <td>2.0</td>\n",
              "      <td>1.0</td>\n",
              "      <td>39.07</td>\n",
              "    </tr>\n",
              "    <tr>\n",
              "      <th>1</th>\n",
              "      <td>Plot  Area</td>\n",
              "      <td>Ready To Move</td>\n",
              "      <td>Chikka Tirupathi</td>\n",
              "      <td>4 Bedroom</td>\n",
              "      <td>Theanmp</td>\n",
              "      <td>2600</td>\n",
              "      <td>5.0</td>\n",
              "      <td>3.0</td>\n",
              "      <td>120.00</td>\n",
              "    </tr>\n",
              "    <tr>\n",
              "      <th>2</th>\n",
              "      <td>Built-up  Area</td>\n",
              "      <td>Ready To Move</td>\n",
              "      <td>Uttarahalli</td>\n",
              "      <td>3 BHK</td>\n",
              "      <td>NaN</td>\n",
              "      <td>1440</td>\n",
              "      <td>2.0</td>\n",
              "      <td>3.0</td>\n",
              "      <td>62.00</td>\n",
              "    </tr>\n",
              "    <tr>\n",
              "      <th>3</th>\n",
              "      <td>Super built-up  Area</td>\n",
              "      <td>Ready To Move</td>\n",
              "      <td>Lingadheeranahalli</td>\n",
              "      <td>3 BHK</td>\n",
              "      <td>Soiewre</td>\n",
              "      <td>1521</td>\n",
              "      <td>3.0</td>\n",
              "      <td>1.0</td>\n",
              "      <td>95.00</td>\n",
              "    </tr>\n",
              "    <tr>\n",
              "      <th>4</th>\n",
              "      <td>Super built-up  Area</td>\n",
              "      <td>Ready To Move</td>\n",
              "      <td>Kothanur</td>\n",
              "      <td>2 BHK</td>\n",
              "      <td>NaN</td>\n",
              "      <td>1200</td>\n",
              "      <td>2.0</td>\n",
              "      <td>1.0</td>\n",
              "      <td>51.00</td>\n",
              "    </tr>\n",
              "    <tr>\n",
              "      <th>...</th>\n",
              "      <td>...</td>\n",
              "      <td>...</td>\n",
              "      <td>...</td>\n",
              "      <td>...</td>\n",
              "      <td>...</td>\n",
              "      <td>...</td>\n",
              "      <td>...</td>\n",
              "      <td>...</td>\n",
              "      <td>...</td>\n",
              "    </tr>\n",
              "    <tr>\n",
              "      <th>13315</th>\n",
              "      <td>Built-up  Area</td>\n",
              "      <td>Ready To Move</td>\n",
              "      <td>Whitefield</td>\n",
              "      <td>5 Bedroom</td>\n",
              "      <td>ArsiaEx</td>\n",
              "      <td>3453</td>\n",
              "      <td>4.0</td>\n",
              "      <td>0.0</td>\n",
              "      <td>231.00</td>\n",
              "    </tr>\n",
              "    <tr>\n",
              "      <th>13316</th>\n",
              "      <td>Super built-up  Area</td>\n",
              "      <td>Ready To Move</td>\n",
              "      <td>Richards Town</td>\n",
              "      <td>4 BHK</td>\n",
              "      <td>NaN</td>\n",
              "      <td>3600</td>\n",
              "      <td>5.0</td>\n",
              "      <td>NaN</td>\n",
              "      <td>400.00</td>\n",
              "    </tr>\n",
              "    <tr>\n",
              "      <th>13317</th>\n",
              "      <td>Built-up  Area</td>\n",
              "      <td>Ready To Move</td>\n",
              "      <td>Raja Rajeshwari Nagar</td>\n",
              "      <td>2 BHK</td>\n",
              "      <td>Mahla T</td>\n",
              "      <td>1141</td>\n",
              "      <td>2.0</td>\n",
              "      <td>1.0</td>\n",
              "      <td>60.00</td>\n",
              "    </tr>\n",
              "    <tr>\n",
              "      <th>13318</th>\n",
              "      <td>Super built-up  Area</td>\n",
              "      <td>18-Jun</td>\n",
              "      <td>Padmanabhanagar</td>\n",
              "      <td>4 BHK</td>\n",
              "      <td>SollyCl</td>\n",
              "      <td>4689</td>\n",
              "      <td>4.0</td>\n",
              "      <td>1.0</td>\n",
              "      <td>488.00</td>\n",
              "    </tr>\n",
              "    <tr>\n",
              "      <th>13319</th>\n",
              "      <td>Super built-up  Area</td>\n",
              "      <td>Ready To Move</td>\n",
              "      <td>Doddathoguru</td>\n",
              "      <td>1 BHK</td>\n",
              "      <td>NaN</td>\n",
              "      <td>550</td>\n",
              "      <td>1.0</td>\n",
              "      <td>1.0</td>\n",
              "      <td>17.00</td>\n",
              "    </tr>\n",
              "  </tbody>\n",
              "</table>\n",
              "<p>13320 rows × 9 columns</p>\n",
              "</div>"
            ],
            "text/plain": [
              "                  area_type   availability  ... balcony   price\n",
              "0      Super built-up  Area         19-Dec  ...     1.0   39.07\n",
              "1                Plot  Area  Ready To Move  ...     3.0  120.00\n",
              "2            Built-up  Area  Ready To Move  ...     3.0   62.00\n",
              "3      Super built-up  Area  Ready To Move  ...     1.0   95.00\n",
              "4      Super built-up  Area  Ready To Move  ...     1.0   51.00\n",
              "...                     ...            ...  ...     ...     ...\n",
              "13315        Built-up  Area  Ready To Move  ...     0.0  231.00\n",
              "13316  Super built-up  Area  Ready To Move  ...     NaN  400.00\n",
              "13317        Built-up  Area  Ready To Move  ...     1.0   60.00\n",
              "13318  Super built-up  Area         18-Jun  ...     1.0  488.00\n",
              "13319  Super built-up  Area  Ready To Move  ...     1.0   17.00\n",
              "\n",
              "[13320 rows x 9 columns]"
            ]
          },
          "metadata": {
            "tags": []
          },
          "execution_count": 3
        }
      ]
    },
    {
      "cell_type": "code",
      "metadata": {
        "id": "ZW6agouUaUIU",
        "colab": {
          "base_uri": "https://localhost:8080/"
        },
        "outputId": "65f1d5ef-c056-4113-bac7-b1a2bfa03727"
      },
      "source": [
        "# Display the number of rows and columns.\n",
        "Ban_hp_df.shape"
      ],
      "execution_count": null,
      "outputs": [
        {
          "output_type": "execute_result",
          "data": {
            "text/plain": [
              "(13320, 9)"
            ]
          },
          "metadata": {
            "tags": []
          },
          "execution_count": 4
        }
      ]
    },
    {
      "cell_type": "markdown",
      "metadata": {
        "id": "jOZ0Od6GUPm9"
      },
      "source": [
        "---"
      ]
    },
    {
      "cell_type": "markdown",
      "metadata": {
        "id": "cu9yQsjRUSlF"
      },
      "source": [
        "#### 3. Check For The Missing Values"
      ]
    },
    {
      "cell_type": "markdown",
      "metadata": {
        "id": "DL1ED9JzPpy2"
      },
      "source": [
        "- Compute the total number of missing values in the DataFrame.\n",
        "\n",
        "- Compute the percentage of missing values in the DataFrame. If a column has more than 15% missing values then drop (or remove) the column from the DataFrame."
      ]
    },
    {
      "cell_type": "code",
      "metadata": {
        "id": "bQnQ62lRFCpp",
        "colab": {
          "base_uri": "https://localhost:8080/"
        },
        "outputId": "a44a2594-7fd2-4799-8c68-aa7617d64533"
      },
      "source": [
        "# Find the total number of missing values in each column.\n",
        "a = Ban_hp_df.isna().sum()\n",
        "a"
      ],
      "execution_count": null,
      "outputs": [
        {
          "output_type": "execute_result",
          "data": {
            "text/plain": [
              "area_type          0\n",
              "availability       0\n",
              "location           1\n",
              "size              16\n",
              "society         5502\n",
              "total_sqft         0\n",
              "bath              73\n",
              "balcony          609\n",
              "price              0\n",
              "dtype: int64"
            ]
          },
          "metadata": {
            "tags": []
          },
          "execution_count": 5
        }
      ]
    },
    {
      "cell_type": "markdown",
      "metadata": {
        "id": "0hK2plLY038e"
      },
      "source": [
        "**Q:** Which column has the most number of missing values?\n",
        "\n",
        "**A:** Society"
      ]
    },
    {
      "cell_type": "code",
      "metadata": {
        "id": "SNcs2rvkqg7u",
        "colab": {
          "base_uri": "https://localhost:8080/"
        },
        "outputId": "d774a86e-1751-4b74-ff6c-6fbd225a94b2"
      },
      "source": [
        "# Find the percentage of missing values\n",
        "percent = (a/len(Ban_hp_df))*100\n",
        "percent"
      ],
      "execution_count": null,
      "outputs": [
        {
          "output_type": "execute_result",
          "data": {
            "text/plain": [
              "area_type        0.000000\n",
              "availability     0.000000\n",
              "location         0.007508\n",
              "size             0.120120\n",
              "society         41.306306\n",
              "total_sqft       0.000000\n",
              "bath             0.548048\n",
              "balcony          4.572072\n",
              "price            0.000000\n",
              "dtype: float64"
            ]
          },
          "metadata": {
            "tags": []
          },
          "execution_count": 6
        }
      ]
    },
    {
      "cell_type": "code",
      "metadata": {
        "colab": {
          "base_uri": "https://localhost:8080/",
          "height": 402
        },
        "id": "xH4qNyfny2yJ",
        "outputId": "77de2e64-dc32-456f-b536-2e0bf5f3746d"
      },
      "source": [
        "Ban_hp_df.pop('society')\n",
        "Ban_hp_df"
      ],
      "execution_count": null,
      "outputs": [
        {
          "output_type": "execute_result",
          "data": {
            "text/html": [
              "<div>\n",
              "<style scoped>\n",
              "    .dataframe tbody tr th:only-of-type {\n",
              "        vertical-align: middle;\n",
              "    }\n",
              "\n",
              "    .dataframe tbody tr th {\n",
              "        vertical-align: top;\n",
              "    }\n",
              "\n",
              "    .dataframe thead th {\n",
              "        text-align: right;\n",
              "    }\n",
              "</style>\n",
              "<table border=\"1\" class=\"dataframe\">\n",
              "  <thead>\n",
              "    <tr style=\"text-align: right;\">\n",
              "      <th></th>\n",
              "      <th>area_type</th>\n",
              "      <th>availability</th>\n",
              "      <th>location</th>\n",
              "      <th>size</th>\n",
              "      <th>total_sqft</th>\n",
              "      <th>bath</th>\n",
              "      <th>balcony</th>\n",
              "      <th>price</th>\n",
              "    </tr>\n",
              "  </thead>\n",
              "  <tbody>\n",
              "    <tr>\n",
              "      <th>0</th>\n",
              "      <td>Super built-up  Area</td>\n",
              "      <td>19-Dec</td>\n",
              "      <td>Electronic City Phase II</td>\n",
              "      <td>2 BHK</td>\n",
              "      <td>1056</td>\n",
              "      <td>2.0</td>\n",
              "      <td>1.0</td>\n",
              "      <td>39.07</td>\n",
              "    </tr>\n",
              "    <tr>\n",
              "      <th>1</th>\n",
              "      <td>Plot  Area</td>\n",
              "      <td>Ready To Move</td>\n",
              "      <td>Chikka Tirupathi</td>\n",
              "      <td>4 Bedroom</td>\n",
              "      <td>2600</td>\n",
              "      <td>5.0</td>\n",
              "      <td>3.0</td>\n",
              "      <td>120.00</td>\n",
              "    </tr>\n",
              "    <tr>\n",
              "      <th>2</th>\n",
              "      <td>Built-up  Area</td>\n",
              "      <td>Ready To Move</td>\n",
              "      <td>Uttarahalli</td>\n",
              "      <td>3 BHK</td>\n",
              "      <td>1440</td>\n",
              "      <td>2.0</td>\n",
              "      <td>3.0</td>\n",
              "      <td>62.00</td>\n",
              "    </tr>\n",
              "    <tr>\n",
              "      <th>3</th>\n",
              "      <td>Super built-up  Area</td>\n",
              "      <td>Ready To Move</td>\n",
              "      <td>Lingadheeranahalli</td>\n",
              "      <td>3 BHK</td>\n",
              "      <td>1521</td>\n",
              "      <td>3.0</td>\n",
              "      <td>1.0</td>\n",
              "      <td>95.00</td>\n",
              "    </tr>\n",
              "    <tr>\n",
              "      <th>4</th>\n",
              "      <td>Super built-up  Area</td>\n",
              "      <td>Ready To Move</td>\n",
              "      <td>Kothanur</td>\n",
              "      <td>2 BHK</td>\n",
              "      <td>1200</td>\n",
              "      <td>2.0</td>\n",
              "      <td>1.0</td>\n",
              "      <td>51.00</td>\n",
              "    </tr>\n",
              "    <tr>\n",
              "      <th>...</th>\n",
              "      <td>...</td>\n",
              "      <td>...</td>\n",
              "      <td>...</td>\n",
              "      <td>...</td>\n",
              "      <td>...</td>\n",
              "      <td>...</td>\n",
              "      <td>...</td>\n",
              "      <td>...</td>\n",
              "    </tr>\n",
              "    <tr>\n",
              "      <th>13315</th>\n",
              "      <td>Built-up  Area</td>\n",
              "      <td>Ready To Move</td>\n",
              "      <td>Whitefield</td>\n",
              "      <td>5 Bedroom</td>\n",
              "      <td>3453</td>\n",
              "      <td>4.0</td>\n",
              "      <td>0.0</td>\n",
              "      <td>231.00</td>\n",
              "    </tr>\n",
              "    <tr>\n",
              "      <th>13316</th>\n",
              "      <td>Super built-up  Area</td>\n",
              "      <td>Ready To Move</td>\n",
              "      <td>Richards Town</td>\n",
              "      <td>4 BHK</td>\n",
              "      <td>3600</td>\n",
              "      <td>5.0</td>\n",
              "      <td>NaN</td>\n",
              "      <td>400.00</td>\n",
              "    </tr>\n",
              "    <tr>\n",
              "      <th>13317</th>\n",
              "      <td>Built-up  Area</td>\n",
              "      <td>Ready To Move</td>\n",
              "      <td>Raja Rajeshwari Nagar</td>\n",
              "      <td>2 BHK</td>\n",
              "      <td>1141</td>\n",
              "      <td>2.0</td>\n",
              "      <td>1.0</td>\n",
              "      <td>60.00</td>\n",
              "    </tr>\n",
              "    <tr>\n",
              "      <th>13318</th>\n",
              "      <td>Super built-up  Area</td>\n",
              "      <td>18-Jun</td>\n",
              "      <td>Padmanabhanagar</td>\n",
              "      <td>4 BHK</td>\n",
              "      <td>4689</td>\n",
              "      <td>4.0</td>\n",
              "      <td>1.0</td>\n",
              "      <td>488.00</td>\n",
              "    </tr>\n",
              "    <tr>\n",
              "      <th>13319</th>\n",
              "      <td>Super built-up  Area</td>\n",
              "      <td>Ready To Move</td>\n",
              "      <td>Doddathoguru</td>\n",
              "      <td>1 BHK</td>\n",
              "      <td>550</td>\n",
              "      <td>1.0</td>\n",
              "      <td>1.0</td>\n",
              "      <td>17.00</td>\n",
              "    </tr>\n",
              "  </tbody>\n",
              "</table>\n",
              "<p>13320 rows × 8 columns</p>\n",
              "</div>"
            ],
            "text/plain": [
              "                  area_type   availability  ... balcony   price\n",
              "0      Super built-up  Area         19-Dec  ...     1.0   39.07\n",
              "1                Plot  Area  Ready To Move  ...     3.0  120.00\n",
              "2            Built-up  Area  Ready To Move  ...     3.0   62.00\n",
              "3      Super built-up  Area  Ready To Move  ...     1.0   95.00\n",
              "4      Super built-up  Area  Ready To Move  ...     1.0   51.00\n",
              "...                     ...            ...  ...     ...     ...\n",
              "13315        Built-up  Area  Ready To Move  ...     0.0  231.00\n",
              "13316  Super built-up  Area  Ready To Move  ...     NaN  400.00\n",
              "13317        Built-up  Area  Ready To Move  ...     1.0   60.00\n",
              "13318  Super built-up  Area         18-Jun  ...     1.0  488.00\n",
              "13319  Super built-up  Area  Ready To Move  ...     1.0   17.00\n",
              "\n",
              "[13320 rows x 8 columns]"
            ]
          },
          "metadata": {
            "tags": []
          },
          "execution_count": 7
        }
      ]
    },
    {
      "cell_type": "markdown",
      "metadata": {
        "id": "srdWtGgUWAx4"
      },
      "source": [
        "**Q:** Which is/are column(s) that need to be removed? Write \"Not Applicable\" if there are none.\n",
        "\n",
        "**A:** society"
      ]
    },
    {
      "cell_type": "markdown",
      "metadata": {
        "id": "bvs4nQC5wrGN"
      },
      "source": [
        "---"
      ]
    },
    {
      "cell_type": "markdown",
      "metadata": {
        "id": "t44eNoOFhu2s"
      },
      "source": [
        "### 4. Data Cleaning - Rows\n",
        "\n",
        "First things first, drop (or remove) the rows containing the missing values in the `location,\tsize` and `total_sqft` columns because they are the most important parameters in governing the price of a house."
      ]
    },
    {
      "cell_type": "markdown",
      "metadata": {
        "id": "Kna6Gzcg4ij4"
      },
      "source": [
        "---"
      ]
    },
    {
      "cell_type": "markdown",
      "metadata": {
        "id": "8IgXW9txcJDy"
      },
      "source": [
        "#### 4.1 Removing Rows From The `location` Column\n",
        "\n",
        "You need to remove all the rows containing the missing values in the `location` column."
      ]
    },
    {
      "cell_type": "code",
      "metadata": {
        "id": "Ux5G6_CGUxTb",
        "colab": {
          "base_uri": "https://localhost:8080/",
          "height": 77
        },
        "outputId": "20e7d5df-6901-4324-ea83-21716e81274c"
      },
      "source": [
        "# Get all the rows having the missing values in the 'location'.\n",
        "mis_loc = Ban_hp_df[Ban_hp_df['location'].isnull() == True]\n",
        "mis_loc"
      ],
      "execution_count": null,
      "outputs": [
        {
          "output_type": "execute_result",
          "data": {
            "text/html": [
              "<div>\n",
              "<style scoped>\n",
              "    .dataframe tbody tr th:only-of-type {\n",
              "        vertical-align: middle;\n",
              "    }\n",
              "\n",
              "    .dataframe tbody tr th {\n",
              "        vertical-align: top;\n",
              "    }\n",
              "\n",
              "    .dataframe thead th {\n",
              "        text-align: right;\n",
              "    }\n",
              "</style>\n",
              "<table border=\"1\" class=\"dataframe\">\n",
              "  <thead>\n",
              "    <tr style=\"text-align: right;\">\n",
              "      <th></th>\n",
              "      <th>area_type</th>\n",
              "      <th>availability</th>\n",
              "      <th>location</th>\n",
              "      <th>size</th>\n",
              "      <th>total_sqft</th>\n",
              "      <th>bath</th>\n",
              "      <th>balcony</th>\n",
              "      <th>price</th>\n",
              "    </tr>\n",
              "  </thead>\n",
              "  <tbody>\n",
              "    <tr>\n",
              "      <th>568</th>\n",
              "      <td>Super built-up  Area</td>\n",
              "      <td>Ready To Move</td>\n",
              "      <td>NaN</td>\n",
              "      <td>3 BHK</td>\n",
              "      <td>1600</td>\n",
              "      <td>3.0</td>\n",
              "      <td>2.0</td>\n",
              "      <td>86.0</td>\n",
              "    </tr>\n",
              "  </tbody>\n",
              "</table>\n",
              "</div>"
            ],
            "text/plain": [
              "                area_type   availability location  ... bath balcony  price\n",
              "568  Super built-up  Area  Ready To Move      NaN  ...  3.0     2.0   86.0\n",
              "\n",
              "[1 rows x 8 columns]"
            ]
          },
          "metadata": {
            "tags": []
          },
          "execution_count": 8
        }
      ]
    },
    {
      "cell_type": "markdown",
      "metadata": {
        "id": "TsW1ScHfZHfF"
      },
      "source": [
        "**Q:** How many rows have the missing values in the `location` column?\n",
        "\n",
        "**A:** 0"
      ]
    },
    {
      "cell_type": "code",
      "metadata": {
        "id": "lFpF324jbzTe",
        "colab": {
          "base_uri": "https://localhost:8080/"
        },
        "outputId": "1fa21225-846a-47c2-a99a-e920690bfb53"
      },
      "source": [
        "# Total number of rows having the missing values in the 'location' column.\n",
        "Ban_hp_df['location'].isnull().sum()"
      ],
      "execution_count": null,
      "outputs": [
        {
          "output_type": "execute_result",
          "data": {
            "text/plain": [
              "1"
            ]
          },
          "metadata": {
            "tags": []
          },
          "execution_count": 9
        }
      ]
    },
    {
      "cell_type": "code",
      "metadata": {
        "id": "fO2eYVUZXQsF",
        "colab": {
          "base_uri": "https://localhost:8080/",
          "height": 402
        },
        "outputId": "1db82a44-79a5-4a1d-a31e-12a7140260b7"
      },
      "source": [
        "# Discard the rows containing the missing values in the 'location' column.\n",
        "Ban_hp_df = Ban_hp_df[~(Ban_hp_df['location'].isnull() == True)]\n",
        "Ban_hp_df"
      ],
      "execution_count": null,
      "outputs": [
        {
          "output_type": "execute_result",
          "data": {
            "text/html": [
              "<div>\n",
              "<style scoped>\n",
              "    .dataframe tbody tr th:only-of-type {\n",
              "        vertical-align: middle;\n",
              "    }\n",
              "\n",
              "    .dataframe tbody tr th {\n",
              "        vertical-align: top;\n",
              "    }\n",
              "\n",
              "    .dataframe thead th {\n",
              "        text-align: right;\n",
              "    }\n",
              "</style>\n",
              "<table border=\"1\" class=\"dataframe\">\n",
              "  <thead>\n",
              "    <tr style=\"text-align: right;\">\n",
              "      <th></th>\n",
              "      <th>area_type</th>\n",
              "      <th>availability</th>\n",
              "      <th>location</th>\n",
              "      <th>size</th>\n",
              "      <th>total_sqft</th>\n",
              "      <th>bath</th>\n",
              "      <th>balcony</th>\n",
              "      <th>price</th>\n",
              "    </tr>\n",
              "  </thead>\n",
              "  <tbody>\n",
              "    <tr>\n",
              "      <th>0</th>\n",
              "      <td>Super built-up  Area</td>\n",
              "      <td>19-Dec</td>\n",
              "      <td>Electronic City Phase II</td>\n",
              "      <td>2 BHK</td>\n",
              "      <td>1056</td>\n",
              "      <td>2.0</td>\n",
              "      <td>1.0</td>\n",
              "      <td>39.07</td>\n",
              "    </tr>\n",
              "    <tr>\n",
              "      <th>1</th>\n",
              "      <td>Plot  Area</td>\n",
              "      <td>Ready To Move</td>\n",
              "      <td>Chikka Tirupathi</td>\n",
              "      <td>4 Bedroom</td>\n",
              "      <td>2600</td>\n",
              "      <td>5.0</td>\n",
              "      <td>3.0</td>\n",
              "      <td>120.00</td>\n",
              "    </tr>\n",
              "    <tr>\n",
              "      <th>2</th>\n",
              "      <td>Built-up  Area</td>\n",
              "      <td>Ready To Move</td>\n",
              "      <td>Uttarahalli</td>\n",
              "      <td>3 BHK</td>\n",
              "      <td>1440</td>\n",
              "      <td>2.0</td>\n",
              "      <td>3.0</td>\n",
              "      <td>62.00</td>\n",
              "    </tr>\n",
              "    <tr>\n",
              "      <th>3</th>\n",
              "      <td>Super built-up  Area</td>\n",
              "      <td>Ready To Move</td>\n",
              "      <td>Lingadheeranahalli</td>\n",
              "      <td>3 BHK</td>\n",
              "      <td>1521</td>\n",
              "      <td>3.0</td>\n",
              "      <td>1.0</td>\n",
              "      <td>95.00</td>\n",
              "    </tr>\n",
              "    <tr>\n",
              "      <th>4</th>\n",
              "      <td>Super built-up  Area</td>\n",
              "      <td>Ready To Move</td>\n",
              "      <td>Kothanur</td>\n",
              "      <td>2 BHK</td>\n",
              "      <td>1200</td>\n",
              "      <td>2.0</td>\n",
              "      <td>1.0</td>\n",
              "      <td>51.00</td>\n",
              "    </tr>\n",
              "    <tr>\n",
              "      <th>...</th>\n",
              "      <td>...</td>\n",
              "      <td>...</td>\n",
              "      <td>...</td>\n",
              "      <td>...</td>\n",
              "      <td>...</td>\n",
              "      <td>...</td>\n",
              "      <td>...</td>\n",
              "      <td>...</td>\n",
              "    </tr>\n",
              "    <tr>\n",
              "      <th>13315</th>\n",
              "      <td>Built-up  Area</td>\n",
              "      <td>Ready To Move</td>\n",
              "      <td>Whitefield</td>\n",
              "      <td>5 Bedroom</td>\n",
              "      <td>3453</td>\n",
              "      <td>4.0</td>\n",
              "      <td>0.0</td>\n",
              "      <td>231.00</td>\n",
              "    </tr>\n",
              "    <tr>\n",
              "      <th>13316</th>\n",
              "      <td>Super built-up  Area</td>\n",
              "      <td>Ready To Move</td>\n",
              "      <td>Richards Town</td>\n",
              "      <td>4 BHK</td>\n",
              "      <td>3600</td>\n",
              "      <td>5.0</td>\n",
              "      <td>NaN</td>\n",
              "      <td>400.00</td>\n",
              "    </tr>\n",
              "    <tr>\n",
              "      <th>13317</th>\n",
              "      <td>Built-up  Area</td>\n",
              "      <td>Ready To Move</td>\n",
              "      <td>Raja Rajeshwari Nagar</td>\n",
              "      <td>2 BHK</td>\n",
              "      <td>1141</td>\n",
              "      <td>2.0</td>\n",
              "      <td>1.0</td>\n",
              "      <td>60.00</td>\n",
              "    </tr>\n",
              "    <tr>\n",
              "      <th>13318</th>\n",
              "      <td>Super built-up  Area</td>\n",
              "      <td>18-Jun</td>\n",
              "      <td>Padmanabhanagar</td>\n",
              "      <td>4 BHK</td>\n",
              "      <td>4689</td>\n",
              "      <td>4.0</td>\n",
              "      <td>1.0</td>\n",
              "      <td>488.00</td>\n",
              "    </tr>\n",
              "    <tr>\n",
              "      <th>13319</th>\n",
              "      <td>Super built-up  Area</td>\n",
              "      <td>Ready To Move</td>\n",
              "      <td>Doddathoguru</td>\n",
              "      <td>1 BHK</td>\n",
              "      <td>550</td>\n",
              "      <td>1.0</td>\n",
              "      <td>1.0</td>\n",
              "      <td>17.00</td>\n",
              "    </tr>\n",
              "  </tbody>\n",
              "</table>\n",
              "<p>13319 rows × 8 columns</p>\n",
              "</div>"
            ],
            "text/plain": [
              "                  area_type   availability  ... balcony   price\n",
              "0      Super built-up  Area         19-Dec  ...     1.0   39.07\n",
              "1                Plot  Area  Ready To Move  ...     3.0  120.00\n",
              "2            Built-up  Area  Ready To Move  ...     3.0   62.00\n",
              "3      Super built-up  Area  Ready To Move  ...     1.0   95.00\n",
              "4      Super built-up  Area  Ready To Move  ...     1.0   51.00\n",
              "...                     ...            ...  ...     ...     ...\n",
              "13315        Built-up  Area  Ready To Move  ...     0.0  231.00\n",
              "13316  Super built-up  Area  Ready To Move  ...     NaN  400.00\n",
              "13317        Built-up  Area  Ready To Move  ...     1.0   60.00\n",
              "13318  Super built-up  Area         18-Jun  ...     1.0  488.00\n",
              "13319  Super built-up  Area  Ready To Move  ...     1.0   17.00\n",
              "\n",
              "[13319 rows x 8 columns]"
            ]
          },
          "metadata": {
            "tags": []
          },
          "execution_count": 10
        }
      ]
    },
    {
      "cell_type": "markdown",
      "metadata": {
        "id": "psLCPdlccSEb"
      },
      "source": [
        "---"
      ]
    },
    {
      "cell_type": "markdown",
      "metadata": {
        "id": "qOwzZDK8clRz"
      },
      "source": [
        "#### 4.2 Removing Rows From The `size` Column\n",
        "\n",
        "Now, you need to remove all the rows containing the missing values in the `size` column."
      ]
    },
    {
      "cell_type": "code",
      "metadata": {
        "id": "pBPLf3oSUthv",
        "colab": {
          "base_uri": "https://localhost:8080/",
          "height": 521
        },
        "outputId": "c71ec34f-698b-4970-de34-154d14252f9c"
      },
      "source": [
        "# Get the rows having the missing values in the 'size' column.\n",
        "mis_siz = Ban_hp_df[Ban_hp_df['size'].isnull() == True]\n",
        "mis_siz"
      ],
      "execution_count": null,
      "outputs": [
        {
          "output_type": "execute_result",
          "data": {
            "text/html": [
              "<div>\n",
              "<style scoped>\n",
              "    .dataframe tbody tr th:only-of-type {\n",
              "        vertical-align: middle;\n",
              "    }\n",
              "\n",
              "    .dataframe tbody tr th {\n",
              "        vertical-align: top;\n",
              "    }\n",
              "\n",
              "    .dataframe thead th {\n",
              "        text-align: right;\n",
              "    }\n",
              "</style>\n",
              "<table border=\"1\" class=\"dataframe\">\n",
              "  <thead>\n",
              "    <tr style=\"text-align: right;\">\n",
              "      <th></th>\n",
              "      <th>area_type</th>\n",
              "      <th>availability</th>\n",
              "      <th>location</th>\n",
              "      <th>size</th>\n",
              "      <th>total_sqft</th>\n",
              "      <th>bath</th>\n",
              "      <th>balcony</th>\n",
              "      <th>price</th>\n",
              "    </tr>\n",
              "  </thead>\n",
              "  <tbody>\n",
              "    <tr>\n",
              "      <th>579</th>\n",
              "      <td>Plot  Area</td>\n",
              "      <td>Immediate Possession</td>\n",
              "      <td>Sarjapur  Road</td>\n",
              "      <td>NaN</td>\n",
              "      <td>1200 - 2400</td>\n",
              "      <td>NaN</td>\n",
              "      <td>NaN</td>\n",
              "      <td>34.185</td>\n",
              "    </tr>\n",
              "    <tr>\n",
              "      <th>1775</th>\n",
              "      <td>Plot  Area</td>\n",
              "      <td>Immediate Possession</td>\n",
              "      <td>IVC Road</td>\n",
              "      <td>NaN</td>\n",
              "      <td>2000 - 5634</td>\n",
              "      <td>NaN</td>\n",
              "      <td>NaN</td>\n",
              "      <td>124.000</td>\n",
              "    </tr>\n",
              "    <tr>\n",
              "      <th>2264</th>\n",
              "      <td>Plot  Area</td>\n",
              "      <td>Immediate Possession</td>\n",
              "      <td>Banashankari</td>\n",
              "      <td>NaN</td>\n",
              "      <td>2400</td>\n",
              "      <td>NaN</td>\n",
              "      <td>NaN</td>\n",
              "      <td>460.000</td>\n",
              "    </tr>\n",
              "    <tr>\n",
              "      <th>2809</th>\n",
              "      <td>Plot  Area</td>\n",
              "      <td>Immediate Possession</td>\n",
              "      <td>Sarjapur  Road</td>\n",
              "      <td>NaN</td>\n",
              "      <td>1200 - 2400</td>\n",
              "      <td>NaN</td>\n",
              "      <td>NaN</td>\n",
              "      <td>28.785</td>\n",
              "    </tr>\n",
              "    <tr>\n",
              "      <th>2862</th>\n",
              "      <td>Plot  Area</td>\n",
              "      <td>Immediate Possession</td>\n",
              "      <td>Devanahalli</td>\n",
              "      <td>NaN</td>\n",
              "      <td>1500 - 2400</td>\n",
              "      <td>NaN</td>\n",
              "      <td>NaN</td>\n",
              "      <td>46.800</td>\n",
              "    </tr>\n",
              "    <tr>\n",
              "      <th>5333</th>\n",
              "      <td>Plot  Area</td>\n",
              "      <td>Immediate Possession</td>\n",
              "      <td>Devanahalli</td>\n",
              "      <td>NaN</td>\n",
              "      <td>2100 - 5405</td>\n",
              "      <td>NaN</td>\n",
              "      <td>NaN</td>\n",
              "      <td>177.115</td>\n",
              "    </tr>\n",
              "    <tr>\n",
              "      <th>6423</th>\n",
              "      <td>Plot  Area</td>\n",
              "      <td>Immediate Possession</td>\n",
              "      <td>Whitefield</td>\n",
              "      <td>NaN</td>\n",
              "      <td>2324</td>\n",
              "      <td>NaN</td>\n",
              "      <td>NaN</td>\n",
              "      <td>26.730</td>\n",
              "    </tr>\n",
              "    <tr>\n",
              "      <th>6636</th>\n",
              "      <td>Plot  Area</td>\n",
              "      <td>Immediate Possession</td>\n",
              "      <td>Jigani</td>\n",
              "      <td>NaN</td>\n",
              "      <td>1500</td>\n",
              "      <td>NaN</td>\n",
              "      <td>NaN</td>\n",
              "      <td>25.490</td>\n",
              "    </tr>\n",
              "    <tr>\n",
              "      <th>6719</th>\n",
              "      <td>Plot  Area</td>\n",
              "      <td>Immediate Possession</td>\n",
              "      <td>Hoskote</td>\n",
              "      <td>NaN</td>\n",
              "      <td>800 - 2660</td>\n",
              "      <td>NaN</td>\n",
              "      <td>NaN</td>\n",
              "      <td>28.545</td>\n",
              "    </tr>\n",
              "    <tr>\n",
              "      <th>7680</th>\n",
              "      <td>Plot  Area</td>\n",
              "      <td>Immediate Possession</td>\n",
              "      <td>Kasavanhalli</td>\n",
              "      <td>NaN</td>\n",
              "      <td>5000</td>\n",
              "      <td>NaN</td>\n",
              "      <td>NaN</td>\n",
              "      <td>400.000</td>\n",
              "    </tr>\n",
              "    <tr>\n",
              "      <th>8306</th>\n",
              "      <td>Plot  Area</td>\n",
              "      <td>Immediate Possession</td>\n",
              "      <td>Anekal</td>\n",
              "      <td>NaN</td>\n",
              "      <td>1453</td>\n",
              "      <td>NaN</td>\n",
              "      <td>NaN</td>\n",
              "      <td>16.500</td>\n",
              "    </tr>\n",
              "    <tr>\n",
              "      <th>8565</th>\n",
              "      <td>Plot  Area</td>\n",
              "      <td>Immediate Possession</td>\n",
              "      <td>Carmelaram</td>\n",
              "      <td>NaN</td>\n",
              "      <td>2000</td>\n",
              "      <td>NaN</td>\n",
              "      <td>NaN</td>\n",
              "      <td>120.000</td>\n",
              "    </tr>\n",
              "    <tr>\n",
              "      <th>8703</th>\n",
              "      <td>Plot  Area</td>\n",
              "      <td>Immediate Possession</td>\n",
              "      <td>Mysore Road</td>\n",
              "      <td>NaN</td>\n",
              "      <td>1200 - 2400</td>\n",
              "      <td>NaN</td>\n",
              "      <td>NaN</td>\n",
              "      <td>42.300</td>\n",
              "    </tr>\n",
              "    <tr>\n",
              "      <th>10634</th>\n",
              "      <td>Plot  Area</td>\n",
              "      <td>Immediate Possession</td>\n",
              "      <td>Rajankunte</td>\n",
              "      <td>NaN</td>\n",
              "      <td>1575</td>\n",
              "      <td>NaN</td>\n",
              "      <td>NaN</td>\n",
              "      <td>31.110</td>\n",
              "    </tr>\n",
              "    <tr>\n",
              "      <th>11019</th>\n",
              "      <td>Plot  Area</td>\n",
              "      <td>Immediate Possession</td>\n",
              "      <td>Yelahanka</td>\n",
              "      <td>NaN</td>\n",
              "      <td>1200 - 1800</td>\n",
              "      <td>NaN</td>\n",
              "      <td>NaN</td>\n",
              "      <td>12.750</td>\n",
              "    </tr>\n",
              "    <tr>\n",
              "      <th>11569</th>\n",
              "      <td>Plot  Area</td>\n",
              "      <td>Immediate Possession</td>\n",
              "      <td>Hosur Road</td>\n",
              "      <td>NaN</td>\n",
              "      <td>1350</td>\n",
              "      <td>NaN</td>\n",
              "      <td>NaN</td>\n",
              "      <td>8.440</td>\n",
              "    </tr>\n",
              "  </tbody>\n",
              "</table>\n",
              "</div>"
            ],
            "text/plain": [
              "        area_type          availability        location  ... bath balcony    price\n",
              "579    Plot  Area  Immediate Possession  Sarjapur  Road  ...  NaN     NaN   34.185\n",
              "1775   Plot  Area  Immediate Possession        IVC Road  ...  NaN     NaN  124.000\n",
              "2264   Plot  Area  Immediate Possession    Banashankari  ...  NaN     NaN  460.000\n",
              "2809   Plot  Area  Immediate Possession  Sarjapur  Road  ...  NaN     NaN   28.785\n",
              "2862   Plot  Area  Immediate Possession     Devanahalli  ...  NaN     NaN   46.800\n",
              "5333   Plot  Area  Immediate Possession     Devanahalli  ...  NaN     NaN  177.115\n",
              "6423   Plot  Area  Immediate Possession      Whitefield  ...  NaN     NaN   26.730\n",
              "6636   Plot  Area  Immediate Possession          Jigani  ...  NaN     NaN   25.490\n",
              "6719   Plot  Area  Immediate Possession         Hoskote  ...  NaN     NaN   28.545\n",
              "7680   Plot  Area  Immediate Possession    Kasavanhalli  ...  NaN     NaN  400.000\n",
              "8306   Plot  Area  Immediate Possession          Anekal  ...  NaN     NaN   16.500\n",
              "8565   Plot  Area  Immediate Possession      Carmelaram  ...  NaN     NaN  120.000\n",
              "8703   Plot  Area  Immediate Possession     Mysore Road  ...  NaN     NaN   42.300\n",
              "10634  Plot  Area  Immediate Possession      Rajankunte  ...  NaN     NaN   31.110\n",
              "11019  Plot  Area  Immediate Possession       Yelahanka  ...  NaN     NaN   12.750\n",
              "11569  Plot  Area  Immediate Possession      Hosur Road  ...  NaN     NaN    8.440\n",
              "\n",
              "[16 rows x 8 columns]"
            ]
          },
          "metadata": {
            "tags": []
          },
          "execution_count": 11
        }
      ]
    },
    {
      "cell_type": "markdown",
      "metadata": {
        "id": "FJYWDgWLZWq6"
      },
      "source": [
        "**Q:** How many rows have the missing values in the `size` column?\n",
        "\n",
        "**A:** 0"
      ]
    },
    {
      "cell_type": "code",
      "metadata": {
        "id": "uJFikSerboTD",
        "colab": {
          "base_uri": "https://localhost:8080/"
        },
        "outputId": "20c1cf4b-0dce-49ff-828c-71ba2a2e316f"
      },
      "source": [
        "# Total number of rows having the missing values in the 'size' column.\n",
        "Ban_hp_df['size'].isnull().sum()"
      ],
      "execution_count": null,
      "outputs": [
        {
          "output_type": "execute_result",
          "data": {
            "text/plain": [
              "16"
            ]
          },
          "metadata": {
            "tags": []
          },
          "execution_count": 12
        }
      ]
    },
    {
      "cell_type": "code",
      "metadata": {
        "id": "dYar2FSLWolC"
      },
      "source": [
        "# Discard the rows containing the missing values in the 'size' column.\n",
        "Ban_hp_df = Ban_hp_df[~(Ban_hp_df['size'].isnull() == True)]"
      ],
      "execution_count": null,
      "outputs": []
    },
    {
      "cell_type": "markdown",
      "metadata": {
        "id": "b4rQMnK819S9"
      },
      "source": [
        "**Q:** How many rows are there in the DataFrame after removing the rows that need to be removed?\n",
        "\n",
        "**A:** 0"
      ]
    },
    {
      "cell_type": "markdown",
      "metadata": {
        "id": "KFs_qwMVc8OR"
      },
      "source": [
        "---"
      ]
    },
    {
      "cell_type": "markdown",
      "metadata": {
        "id": "KmJTE6kPdCuY"
      },
      "source": [
        "#### 4.3 Removing Rows From The `total_sqft` Column\n",
        "\n",
        "Now, you need to remove all the rows containing the missing values in the `total_sqft` column."
      ]
    },
    {
      "cell_type": "code",
      "metadata": {
        "id": "EtBWeHKndGOW",
        "colab": {
          "base_uri": "https://localhost:8080/",
          "height": 47
        },
        "outputId": "4dd37696-0a69-4639-8032-523b7b67d4f7"
      },
      "source": [
        "# Get the rows having the missing values in the 'total_sqft' column.\n",
        "mis_ts = Ban_hp_df[Ban_hp_df['total_sqft'].isnull() == True]\n",
        "mis_ts"
      ],
      "execution_count": null,
      "outputs": [
        {
          "output_type": "execute_result",
          "data": {
            "text/html": [
              "<div>\n",
              "<style scoped>\n",
              "    .dataframe tbody tr th:only-of-type {\n",
              "        vertical-align: middle;\n",
              "    }\n",
              "\n",
              "    .dataframe tbody tr th {\n",
              "        vertical-align: top;\n",
              "    }\n",
              "\n",
              "    .dataframe thead th {\n",
              "        text-align: right;\n",
              "    }\n",
              "</style>\n",
              "<table border=\"1\" class=\"dataframe\">\n",
              "  <thead>\n",
              "    <tr style=\"text-align: right;\">\n",
              "      <th></th>\n",
              "      <th>area_type</th>\n",
              "      <th>availability</th>\n",
              "      <th>location</th>\n",
              "      <th>size</th>\n",
              "      <th>total_sqft</th>\n",
              "      <th>bath</th>\n",
              "      <th>balcony</th>\n",
              "      <th>price</th>\n",
              "    </tr>\n",
              "  </thead>\n",
              "  <tbody>\n",
              "  </tbody>\n",
              "</table>\n",
              "</div>"
            ],
            "text/plain": [
              "Empty DataFrame\n",
              "Columns: [area_type, availability, location, size, total_sqft, bath, balcony, price]\n",
              "Index: []"
            ]
          },
          "metadata": {
            "tags": []
          },
          "execution_count": 14
        }
      ]
    },
    {
      "cell_type": "markdown",
      "metadata": {
        "id": "gegqvqrRdQhq"
      },
      "source": [
        "**Q:** How many rows have the missing values in the `size` column?\n",
        "\n",
        "**A:** 0"
      ]
    },
    {
      "cell_type": "markdown",
      "metadata": {
        "id": "2cR2MSa0AueA"
      },
      "source": [
        "---"
      ]
    },
    {
      "cell_type": "markdown",
      "metadata": {
        "id": "jrJMw0K3hUIG"
      },
      "source": [
        "#### 4.3 Removing Rows From The `bath` Column\n",
        "\n",
        "Assume that in the practical situation, no house, even in a city like Bengaluru, will have more than 5 bathrooms. Hence, drop all the rows in the `bath` column containing more than 5 bathrooms."
      ]
    },
    {
      "cell_type": "code",
      "metadata": {
        "id": "JKOskDUMiG3z",
        "colab": {
          "base_uri": "https://localhost:8080/",
          "height": 402
        },
        "outputId": "5c9ae584-c170-4e3c-af2e-fa2ca4e1f012"
      },
      "source": [
        "# Get the rows having more than 5 bathrooms in the 'bath' column.\n",
        "bath_5 = Ban_hp_df[Ban_hp_df['bath'] > 5]\n",
        "bath_5"
      ],
      "execution_count": null,
      "outputs": [
        {
          "output_type": "execute_result",
          "data": {
            "text/html": [
              "<div>\n",
              "<style scoped>\n",
              "    .dataframe tbody tr th:only-of-type {\n",
              "        vertical-align: middle;\n",
              "    }\n",
              "\n",
              "    .dataframe tbody tr th {\n",
              "        vertical-align: top;\n",
              "    }\n",
              "\n",
              "    .dataframe thead th {\n",
              "        text-align: right;\n",
              "    }\n",
              "</style>\n",
              "<table border=\"1\" class=\"dataframe\">\n",
              "  <thead>\n",
              "    <tr style=\"text-align: right;\">\n",
              "      <th></th>\n",
              "      <th>area_type</th>\n",
              "      <th>availability</th>\n",
              "      <th>location</th>\n",
              "      <th>size</th>\n",
              "      <th>total_sqft</th>\n",
              "      <th>bath</th>\n",
              "      <th>balcony</th>\n",
              "      <th>price</th>\n",
              "    </tr>\n",
              "  </thead>\n",
              "  <tbody>\n",
              "    <tr>\n",
              "      <th>9</th>\n",
              "      <td>Plot  Area</td>\n",
              "      <td>Ready To Move</td>\n",
              "      <td>Gandhi Bazar</td>\n",
              "      <td>6 Bedroom</td>\n",
              "      <td>1020</td>\n",
              "      <td>6.0</td>\n",
              "      <td>NaN</td>\n",
              "      <td>370.0</td>\n",
              "    </tr>\n",
              "    <tr>\n",
              "      <th>45</th>\n",
              "      <td>Plot  Area</td>\n",
              "      <td>Ready To Move</td>\n",
              "      <td>HSR Layout</td>\n",
              "      <td>8 Bedroom</td>\n",
              "      <td>600</td>\n",
              "      <td>9.0</td>\n",
              "      <td>NaN</td>\n",
              "      <td>200.0</td>\n",
              "    </tr>\n",
              "    <tr>\n",
              "      <th>64</th>\n",
              "      <td>Built-up  Area</td>\n",
              "      <td>Ready To Move</td>\n",
              "      <td>Bommanahalli</td>\n",
              "      <td>8 Bedroom</td>\n",
              "      <td>3000</td>\n",
              "      <td>8.0</td>\n",
              "      <td>0.0</td>\n",
              "      <td>140.0</td>\n",
              "    </tr>\n",
              "    <tr>\n",
              "      <th>68</th>\n",
              "      <td>Plot  Area</td>\n",
              "      <td>Ready To Move</td>\n",
              "      <td>Devarachikkanahalli</td>\n",
              "      <td>8 Bedroom</td>\n",
              "      <td>1350</td>\n",
              "      <td>7.0</td>\n",
              "      <td>0.0</td>\n",
              "      <td>85.0</td>\n",
              "    </tr>\n",
              "    <tr>\n",
              "      <th>79</th>\n",
              "      <td>Built-up  Area</td>\n",
              "      <td>Ready To Move</td>\n",
              "      <td>ISRO Layout</td>\n",
              "      <td>6 Bedroom</td>\n",
              "      <td>4400</td>\n",
              "      <td>6.0</td>\n",
              "      <td>3.0</td>\n",
              "      <td>250.0</td>\n",
              "    </tr>\n",
              "    <tr>\n",
              "      <th>...</th>\n",
              "      <td>...</td>\n",
              "      <td>...</td>\n",
              "      <td>...</td>\n",
              "      <td>...</td>\n",
              "      <td>...</td>\n",
              "      <td>...</td>\n",
              "      <td>...</td>\n",
              "      <td>...</td>\n",
              "    </tr>\n",
              "    <tr>\n",
              "      <th>13221</th>\n",
              "      <td>Plot  Area</td>\n",
              "      <td>Ready To Move</td>\n",
              "      <td>T Dasarahalli</td>\n",
              "      <td>9 Bedroom</td>\n",
              "      <td>1178</td>\n",
              "      <td>9.0</td>\n",
              "      <td>1.0</td>\n",
              "      <td>75.0</td>\n",
              "    </tr>\n",
              "    <tr>\n",
              "      <th>13226</th>\n",
              "      <td>Built-up  Area</td>\n",
              "      <td>Ready To Move</td>\n",
              "      <td>Raja Rajeshwari Nagar</td>\n",
              "      <td>8 Bedroom</td>\n",
              "      <td>6000</td>\n",
              "      <td>8.0</td>\n",
              "      <td>3.0</td>\n",
              "      <td>215.0</td>\n",
              "    </tr>\n",
              "    <tr>\n",
              "      <th>13277</th>\n",
              "      <td>Plot  Area</td>\n",
              "      <td>Ready To Move</td>\n",
              "      <td>Kundalahalli Colony</td>\n",
              "      <td>7 Bedroom</td>\n",
              "      <td>1400</td>\n",
              "      <td>7.0</td>\n",
              "      <td>NaN</td>\n",
              "      <td>218.0</td>\n",
              "    </tr>\n",
              "    <tr>\n",
              "      <th>13300</th>\n",
              "      <td>Plot  Area</td>\n",
              "      <td>Ready To Move</td>\n",
              "      <td>Hosakerehalli</td>\n",
              "      <td>5 Bedroom</td>\n",
              "      <td>1500</td>\n",
              "      <td>6.0</td>\n",
              "      <td>2.0</td>\n",
              "      <td>145.0</td>\n",
              "    </tr>\n",
              "    <tr>\n",
              "      <th>13311</th>\n",
              "      <td>Plot  Area</td>\n",
              "      <td>Ready To Move</td>\n",
              "      <td>Ramamurthy Nagar</td>\n",
              "      <td>7 Bedroom</td>\n",
              "      <td>1500</td>\n",
              "      <td>9.0</td>\n",
              "      <td>2.0</td>\n",
              "      <td>250.0</td>\n",
              "    </tr>\n",
              "  </tbody>\n",
              "</table>\n",
              "<p>515 rows × 8 columns</p>\n",
              "</div>"
            ],
            "text/plain": [
              "            area_type   availability  ... balcony  price\n",
              "9          Plot  Area  Ready To Move  ...     NaN  370.0\n",
              "45         Plot  Area  Ready To Move  ...     NaN  200.0\n",
              "64     Built-up  Area  Ready To Move  ...     0.0  140.0\n",
              "68         Plot  Area  Ready To Move  ...     0.0   85.0\n",
              "79     Built-up  Area  Ready To Move  ...     3.0  250.0\n",
              "...               ...            ...  ...     ...    ...\n",
              "13221      Plot  Area  Ready To Move  ...     1.0   75.0\n",
              "13226  Built-up  Area  Ready To Move  ...     3.0  215.0\n",
              "13277      Plot  Area  Ready To Move  ...     NaN  218.0\n",
              "13300      Plot  Area  Ready To Move  ...     2.0  145.0\n",
              "13311      Plot  Area  Ready To Move  ...     2.0  250.0\n",
              "\n",
              "[515 rows x 8 columns]"
            ]
          },
          "metadata": {
            "tags": []
          },
          "execution_count": 15
        }
      ]
    },
    {
      "cell_type": "markdown",
      "metadata": {
        "id": "lrpp7DYMiZFk"
      },
      "source": [
        "**Q:** How many rows have more than 5 bathrooms in the `bath` column?\n",
        "\n",
        "**A:** 515"
      ]
    },
    {
      "cell_type": "code",
      "metadata": {
        "id": "DKHlMJ5wijr2"
      },
      "source": [
        "# Discard the rows having more than 5 bathrooms in the 'bath' column.\n",
        "Ban_hp_df = Ban_hp_df[~(Ban_hp_df['bath'] > 5)]\n"
      ],
      "execution_count": null,
      "outputs": []
    },
    {
      "cell_type": "markdown",
      "metadata": {
        "id": "Egt6QPnhizMa"
      },
      "source": [
        "**Q:** How many rows have more at most 5 bathrooms in the `bath` column?\n",
        "\n",
        "**A:** 15"
      ]
    },
    {
      "cell_type": "markdown",
      "metadata": {
        "id": "EHPFKZyYhTZp"
      },
      "source": [
        "---"
      ]
    },
    {
      "cell_type": "markdown",
      "metadata": {
        "id": "Y_Ebe-MZAwLp"
      },
      "source": [
        "### 5. Data Cleaning - Columns"
      ]
    },
    {
      "cell_type": "markdown",
      "metadata": {
        "id": "0uxtAmKtBLOF"
      },
      "source": [
        "Compute the percentage of missing values in the DataFrame again. If a column has more than 15% missing values then drop (or remove) the column from the DataFrame.\n"
      ]
    },
    {
      "cell_type": "code",
      "metadata": {
        "id": "8QO2WxiTdlwd",
        "colab": {
          "base_uri": "https://localhost:8080/"
        },
        "outputId": "e88229cc-be82-468c-e4dc-62fd4f224702"
      },
      "source": [
        "# Percentage of missing values.\n",
        "b = Ban_hp_df.isnull().sum()\n",
        "percent_1 = (b/len(Ban_hp_df))*100\n",
        "percent_1"
      ],
      "execution_count": null,
      "outputs": [
        {
          "output_type": "execute_result",
          "data": {
            "text/plain": [
              "area_type       0.000000\n",
              "availability    0.000000\n",
              "location        0.000000\n",
              "size            0.000000\n",
              "total_sqft      0.000000\n",
              "bath            0.445730\n",
              "balcony         3.792618\n",
              "price           0.000000\n",
              "dtype: float64"
            ]
          },
          "metadata": {
            "tags": []
          },
          "execution_count": 17
        }
      ]
    },
    {
      "cell_type": "markdown",
      "metadata": {
        "id": "PXjHYRRYdp3M"
      },
      "source": [
        "**Q:** Which is/are column(s) that need to be removed? Write \"Not Applicable\" if there are none.\n",
        "\n",
        "**A:** Not Applicable"
      ]
    },
    {
      "cell_type": "markdown",
      "metadata": {
        "id": "ku_H7vBn3wha"
      },
      "source": [
        "**Q:** Did the overall percentage of the missing values dropped compared to the initial percentage of the missing values? Write yes or no.\n",
        "\n",
        "**A:** yes"
      ]
    },
    {
      "cell_type": "markdown",
      "metadata": {
        "id": "o1ePPupRla-i"
      },
      "source": [
        "---"
      ]
    },
    {
      "cell_type": "markdown",
      "metadata": {
        "id": "Hsq9gQa_eIxq"
      },
      "source": [
        "#### 5.1 Columns To Be Retained\n",
        "\n",
        "Create a list of columns that need to be retained."
      ]
    },
    {
      "cell_type": "code",
      "metadata": {
        "id": "iC2b6UXEWba5",
        "colab": {
          "base_uri": "https://localhost:8080/"
        },
        "outputId": "7e635b1d-0f3c-45a2-bb77-4d97d70be88f"
      },
      "source": [
        "# List of the columns to be retained.\n",
        "lst = [ ]\n",
        "for i in Ban_hp_df.columns:\n",
        "  if i != \"society\":\n",
        "    lst.append(i)\n",
        "lst"
      ],
      "execution_count": null,
      "outputs": [
        {
          "output_type": "execute_result",
          "data": {
            "text/plain": [
              "['area_type',\n",
              " 'availability',\n",
              " 'location',\n",
              " 'size',\n",
              " 'total_sqft',\n",
              " 'bath',\n",
              " 'balcony',\n",
              " 'price']"
            ]
          },
          "metadata": {
            "tags": []
          },
          "execution_count": 18
        }
      ]
    },
    {
      "cell_type": "markdown",
      "metadata": {
        "id": "cdLiNXjm4d2w"
      },
      "source": [
        "---"
      ]
    },
    {
      "cell_type": "markdown",
      "metadata": {
        "id": "DPUBxFcNlq-_"
      },
      "source": [
        "#### 5.2 Retaining Columns\n",
        "\n",
        "Retain the appropriate columns in the DataFrame."
      ]
    },
    {
      "cell_type": "code",
      "metadata": {
        "id": "mxlxyisTV0Mo",
        "colab": {
          "base_uri": "https://localhost:8080/",
          "height": 402
        },
        "outputId": "bcb0cbd1-e161-4919-8241-07de238427c8"
      },
      "source": [
        "# Retain the appropriate columns in the DataFrame.\n",
        "Ban_hp_df = Ban_hp_df.loc[:, lst]\n",
        "Ban_hp_df"
      ],
      "execution_count": null,
      "outputs": [
        {
          "output_type": "execute_result",
          "data": {
            "text/html": [
              "<div>\n",
              "<style scoped>\n",
              "    .dataframe tbody tr th:only-of-type {\n",
              "        vertical-align: middle;\n",
              "    }\n",
              "\n",
              "    .dataframe tbody tr th {\n",
              "        vertical-align: top;\n",
              "    }\n",
              "\n",
              "    .dataframe thead th {\n",
              "        text-align: right;\n",
              "    }\n",
              "</style>\n",
              "<table border=\"1\" class=\"dataframe\">\n",
              "  <thead>\n",
              "    <tr style=\"text-align: right;\">\n",
              "      <th></th>\n",
              "      <th>area_type</th>\n",
              "      <th>availability</th>\n",
              "      <th>location</th>\n",
              "      <th>size</th>\n",
              "      <th>total_sqft</th>\n",
              "      <th>bath</th>\n",
              "      <th>balcony</th>\n",
              "      <th>price</th>\n",
              "    </tr>\n",
              "  </thead>\n",
              "  <tbody>\n",
              "    <tr>\n",
              "      <th>0</th>\n",
              "      <td>Super built-up  Area</td>\n",
              "      <td>19-Dec</td>\n",
              "      <td>Electronic City Phase II</td>\n",
              "      <td>2 BHK</td>\n",
              "      <td>1056</td>\n",
              "      <td>2.0</td>\n",
              "      <td>1.0</td>\n",
              "      <td>39.07</td>\n",
              "    </tr>\n",
              "    <tr>\n",
              "      <th>1</th>\n",
              "      <td>Plot  Area</td>\n",
              "      <td>Ready To Move</td>\n",
              "      <td>Chikka Tirupathi</td>\n",
              "      <td>4 Bedroom</td>\n",
              "      <td>2600</td>\n",
              "      <td>5.0</td>\n",
              "      <td>3.0</td>\n",
              "      <td>120.00</td>\n",
              "    </tr>\n",
              "    <tr>\n",
              "      <th>2</th>\n",
              "      <td>Built-up  Area</td>\n",
              "      <td>Ready To Move</td>\n",
              "      <td>Uttarahalli</td>\n",
              "      <td>3 BHK</td>\n",
              "      <td>1440</td>\n",
              "      <td>2.0</td>\n",
              "      <td>3.0</td>\n",
              "      <td>62.00</td>\n",
              "    </tr>\n",
              "    <tr>\n",
              "      <th>3</th>\n",
              "      <td>Super built-up  Area</td>\n",
              "      <td>Ready To Move</td>\n",
              "      <td>Lingadheeranahalli</td>\n",
              "      <td>3 BHK</td>\n",
              "      <td>1521</td>\n",
              "      <td>3.0</td>\n",
              "      <td>1.0</td>\n",
              "      <td>95.00</td>\n",
              "    </tr>\n",
              "    <tr>\n",
              "      <th>4</th>\n",
              "      <td>Super built-up  Area</td>\n",
              "      <td>Ready To Move</td>\n",
              "      <td>Kothanur</td>\n",
              "      <td>2 BHK</td>\n",
              "      <td>1200</td>\n",
              "      <td>2.0</td>\n",
              "      <td>1.0</td>\n",
              "      <td>51.00</td>\n",
              "    </tr>\n",
              "    <tr>\n",
              "      <th>...</th>\n",
              "      <td>...</td>\n",
              "      <td>...</td>\n",
              "      <td>...</td>\n",
              "      <td>...</td>\n",
              "      <td>...</td>\n",
              "      <td>...</td>\n",
              "      <td>...</td>\n",
              "      <td>...</td>\n",
              "    </tr>\n",
              "    <tr>\n",
              "      <th>13315</th>\n",
              "      <td>Built-up  Area</td>\n",
              "      <td>Ready To Move</td>\n",
              "      <td>Whitefield</td>\n",
              "      <td>5 Bedroom</td>\n",
              "      <td>3453</td>\n",
              "      <td>4.0</td>\n",
              "      <td>0.0</td>\n",
              "      <td>231.00</td>\n",
              "    </tr>\n",
              "    <tr>\n",
              "      <th>13316</th>\n",
              "      <td>Super built-up  Area</td>\n",
              "      <td>Ready To Move</td>\n",
              "      <td>Richards Town</td>\n",
              "      <td>4 BHK</td>\n",
              "      <td>3600</td>\n",
              "      <td>5.0</td>\n",
              "      <td>NaN</td>\n",
              "      <td>400.00</td>\n",
              "    </tr>\n",
              "    <tr>\n",
              "      <th>13317</th>\n",
              "      <td>Built-up  Area</td>\n",
              "      <td>Ready To Move</td>\n",
              "      <td>Raja Rajeshwari Nagar</td>\n",
              "      <td>2 BHK</td>\n",
              "      <td>1141</td>\n",
              "      <td>2.0</td>\n",
              "      <td>1.0</td>\n",
              "      <td>60.00</td>\n",
              "    </tr>\n",
              "    <tr>\n",
              "      <th>13318</th>\n",
              "      <td>Super built-up  Area</td>\n",
              "      <td>18-Jun</td>\n",
              "      <td>Padmanabhanagar</td>\n",
              "      <td>4 BHK</td>\n",
              "      <td>4689</td>\n",
              "      <td>4.0</td>\n",
              "      <td>1.0</td>\n",
              "      <td>488.00</td>\n",
              "    </tr>\n",
              "    <tr>\n",
              "      <th>13319</th>\n",
              "      <td>Super built-up  Area</td>\n",
              "      <td>Ready To Move</td>\n",
              "      <td>Doddathoguru</td>\n",
              "      <td>1 BHK</td>\n",
              "      <td>550</td>\n",
              "      <td>1.0</td>\n",
              "      <td>1.0</td>\n",
              "      <td>17.00</td>\n",
              "    </tr>\n",
              "  </tbody>\n",
              "</table>\n",
              "<p>12788 rows × 8 columns</p>\n",
              "</div>"
            ],
            "text/plain": [
              "                  area_type   availability  ... balcony   price\n",
              "0      Super built-up  Area         19-Dec  ...     1.0   39.07\n",
              "1                Plot  Area  Ready To Move  ...     3.0  120.00\n",
              "2            Built-up  Area  Ready To Move  ...     3.0   62.00\n",
              "3      Super built-up  Area  Ready To Move  ...     1.0   95.00\n",
              "4      Super built-up  Area  Ready To Move  ...     1.0   51.00\n",
              "...                     ...            ...  ...     ...     ...\n",
              "13315        Built-up  Area  Ready To Move  ...     0.0  231.00\n",
              "13316  Super built-up  Area  Ready To Move  ...     NaN  400.00\n",
              "13317        Built-up  Area  Ready To Move  ...     1.0   60.00\n",
              "13318  Super built-up  Area         18-Jun  ...     1.0  488.00\n",
              "13319  Super built-up  Area  Ready To Move  ...     1.0   17.00\n",
              "\n",
              "[12788 rows x 8 columns]"
            ]
          },
          "metadata": {
            "tags": []
          },
          "execution_count": 19
        }
      ]
    },
    {
      "cell_type": "markdown",
      "metadata": {
        "id": "3GiM15HKl7ht"
      },
      "source": [
        "Again calculate the percetange of missing values in the DataFrame."
      ]
    },
    {
      "cell_type": "code",
      "metadata": {
        "id": "kfI67mPeiqy1",
        "colab": {
          "base_uri": "https://localhost:8080/"
        },
        "outputId": "14663084-8dce-41bf-bbf4-78a929323714"
      },
      "source": [
        "# Percentage of the missing values in the DataFrame.\n",
        "percent_1 = (b/len(Ban_hp_df))*100\n",
        "percent_1"
      ],
      "execution_count": null,
      "outputs": [
        {
          "output_type": "execute_result",
          "data": {
            "text/plain": [
              "area_type       0.000000\n",
              "availability    0.000000\n",
              "location        0.000000\n",
              "size            0.000000\n",
              "total_sqft      0.000000\n",
              "bath            0.445730\n",
              "balcony         3.792618\n",
              "price           0.000000\n",
              "dtype: float64"
            ]
          },
          "metadata": {
            "tags": []
          },
          "execution_count": 20
        }
      ]
    },
    {
      "cell_type": "markdown",
      "metadata": {
        "id": "-tnlKd4yf6Ey"
      },
      "source": [
        "**Q:** Write down (or identify) the column(s) in which the values need to be replaced with an appropriate value.\n",
        "\n",
        "**A:**"
      ]
    },
    {
      "cell_type": "markdown",
      "metadata": {
        "id": "YEJ6-e_Kll9O"
      },
      "source": [
        "---"
      ]
    },
    {
      "cell_type": "markdown",
      "metadata": {
        "id": "GJ_AL5PenPyx"
      },
      "source": [
        "#### 5.3 Replace The Missing Values\n",
        "\n",
        "While performing this task, you need to make sure that the replaced values do not drastically affect the trend of the values in the identified column(s) in the entire dataset.\n",
        "\n",
        "You can check the trend of the values by creating a box plot before and after replacing the missing (or null) values with the appropriate values.\n",
        "\n",
        "You should follow the steps described below to do this exercise:\n",
        "\n",
        "1. Find out the nature of the values in the identified column(s).\n",
        "\n",
        "    - If the value is a continuous value like a price then replace the missing values with the median value.\n",
        "\n",
        "    - If the value is a discrete value like the number of bedrooms or the number of bathrooms then replace the missing values with either the modal value or the median value. Make sure the replacement value makes sense in the real-world context. For e.g., there can't be 2.5 bathrooms or 2.5 balconies in a house. Also, the replacement value should make sense in the context of the house configuration. For e.g., a 2 BHK house having 5 bathrooms doesn't make sense. Similarly, a 2 BHK house having 5 balconies doesn't make sense.\n",
        "\n",
        "    - Get the descriptive statistics of the identified column(s) to understand the trend of values.\n",
        "\n",
        "    - Create a box plot to understand the trend of the values.\n",
        "\n",
        "2. Replace the values in the identified column(s).\n",
        "\n",
        "3. Get the descriptive statistics of the identified column(s) and also create a box plot to ensure that the replaced values do not drastically affect the trend of the values."
      ]
    },
    {
      "cell_type": "code",
      "metadata": {
        "id": "iYSglvW_cmL5",
        "colab": {
          "base_uri": "https://localhost:8080/"
        },
        "outputId": "14ccdcca-34c3-46d8-b3f5-e392441febbc"
      },
      "source": [
        "# Get the descriptive statistics of the identified column(s).\n",
        "Ban_hp_df['balcony'].describe()"
      ],
      "execution_count": null,
      "outputs": [
        {
          "output_type": "execute_result",
          "data": {
            "text/plain": [
              "count    12303.000000\n",
              "mean         1.575388\n",
              "std          0.806303\n",
              "min          0.000000\n",
              "25%          1.000000\n",
              "50%          2.000000\n",
              "75%          2.000000\n",
              "max          3.000000\n",
              "Name: balcony, dtype: float64"
            ]
          },
          "metadata": {
            "tags": []
          },
          "execution_count": 21
        }
      ]
    },
    {
      "cell_type": "code",
      "metadata": {
        "id": "BQEP9bgncSvQ",
        "colab": {
          "base_uri": "https://localhost:8080/",
          "height": 497
        },
        "outputId": "1a8efe26-3434-4007-dc6f-17380e7cd3fd"
      },
      "source": [
        "# Create boxplot before replacing the missing values in the identified column(s).\n",
        "import seaborn as sns\n",
        "plt.figure(figsize=(20,8))\n",
        "sns.boxplot(x=\"balcony\", data=Ban_hp_df)\n",
        "plt.show()"
      ],
      "execution_count": null,
      "outputs": [
        {
          "output_type": "display_data",
          "data": {
            "image/png": "[encoded data removed]",
            "text/plain": [
              "<Figure size 1440x576 with 1 Axes>"
            ]
          },
          "metadata": {
            "tags": [],
            "needs_background": "light"
          }
        }
      ]
    },
    {
      "cell_type": "code",
      "metadata": {
        "id": "MQ5aNUKyo_BR",
        "colab": {
          "base_uri": "https://localhost:8080/"
        },
        "outputId": "eab9c2e0-ef1c-4761-90a4-181bbec8ec12"
      },
      "source": [
        "# Computing the modal value in the 'balcony' column.\n",
        "Ban_hp_df['balcony'].mode()"
      ],
      "execution_count": null,
      "outputs": [
        {
          "output_type": "execute_result",
          "data": {
            "text/plain": [
              "0    2.0\n",
              "dtype: float64"
            ]
          },
          "metadata": {
            "tags": []
          },
          "execution_count": 23
        }
      ]
    },
    {
      "cell_type": "markdown",
      "metadata": {
        "id": "Hz3AKCAmjqi5"
      },
      "source": [
        "**Q:** What should be the replacement value and why?\n",
        "\n",
        "**A:** median as we do not want to deviate the original statistics."
      ]
    },
    {
      "cell_type": "markdown",
      "metadata": {
        "id": "sjrqo38UCvl4"
      },
      "source": [
        "Now, let's replace the missing values with the appropriate replacement value. But first, create a list of the row indices of the rows containing the missing values in the identified column(s)."
      ]
    },
    {
      "cell_type": "code",
      "metadata": {
        "id": "ZAHyNLzv1IBg",
        "colab": {
          "base_uri": "https://localhost:8080/"
        },
        "outputId": "92d70713-1632-4b87-b54f-685bd6c30c85"
      },
      "source": [
        "# Create a list of indices of the rows containing the missing values in the identified column(s).\n",
        "row_indices = Ban_hp_df[Ban_hp_df['balcony'].isnull() == True].index\n",
        "row_indices"
      ],
      "execution_count": null,
      "outputs": [
        {
          "output_type": "execute_result",
          "data": {
            "text/plain": [
              "Int64Index([    6,     7,    34,    40,    56,    81,   146,   149,   153,\n",
              "              192,\n",
              "            ...\n",
              "            13197, 13213, 13217, 13232, 13240, 13247, 13279, 13306, 13309,\n",
              "            13316],\n",
              "           dtype='int64', length=485)"
            ]
          },
          "metadata": {
            "tags": []
          },
          "execution_count": 24
        }
      ]
    },
    {
      "cell_type": "code",
      "metadata": {
        "id": "Ho33d7MV29wp"
      },
      "source": [
        "# Replace the missing values in the identified column(s) with the appropriate value.\n",
        "Ban_hp_df.loc[row_indices,'balcony'] = 2.0000"
      ],
      "execution_count": null,
      "outputs": []
    },
    {
      "cell_type": "code",
      "metadata": {
        "id": "G_ZTEOIn3TZU",
        "colab": {
          "base_uri": "https://localhost:8080/"
        },
        "outputId": "e020a3c5-dcdb-4eef-aa72-1e7830e544ba"
      },
      "source": [
        "# Display the first 5 rows of the DataFrame, after replacing the missing values in the identified column(s).\n",
        "Ban_hp_df.loc[row_indices, 'balcony'].head()"
      ],
      "execution_count": null,
      "outputs": [
        {
          "output_type": "execute_result",
          "data": {
            "text/plain": [
              "6     2.0\n",
              "7     2.0\n",
              "34    2.0\n",
              "40    2.0\n",
              "56    2.0\n",
              "Name: balcony, dtype: float64"
            ]
          },
          "metadata": {
            "tags": []
          },
          "execution_count": 26
        }
      ]
    },
    {
      "cell_type": "code",
      "metadata": {
        "id": "2fCfJyU53dEc",
        "colab": {
          "base_uri": "https://localhost:8080/"
        },
        "outputId": "3d090031-3528-4aeb-ed7b-00b937cfa3cf"
      },
      "source": [
        "# Check for missing values again.\n",
        "Ban_hp_df['balcony'].isnull().sum()"
      ],
      "execution_count": null,
      "outputs": [
        {
          "output_type": "execute_result",
          "data": {
            "text/plain": [
              "0"
            ]
          },
          "metadata": {
            "tags": []
          },
          "execution_count": 27
        }
      ]
    },
    {
      "cell_type": "markdown",
      "metadata": {
        "id": "oVmLppjg87tI"
      },
      "source": [
        "**Q:** Are there any more missing values in the DataFrame? Write yes or no. Also, write down the next steps that you will take to ensure that the replacement does not drastically affect the trend of values in the identified column(s).\n",
        "\n",
        "**A:**"
      ]
    },
    {
      "cell_type": "markdown",
      "metadata": {
        "id": "iYmADO4HFkFE"
      },
      "source": [
        "---"
      ]
    },
    {
      "cell_type": "markdown",
      "metadata": {
        "id": "HLsmSwnQFmJc"
      },
      "source": [
        "#### Next Steps\n",
        "\n",
        "Take the necessary steps that you mentioned above in this section. Add new code cells to do the steps.\n",
        "\n",
        "If there are no steps to be taken, then ignore this section and move forward."
      ]
    },
    {
      "cell_type": "markdown",
      "metadata": {
        "id": "4e5u8TZuFlTc"
      },
      "source": [
        "---"
      ]
    },
    {
      "cell_type": "markdown",
      "metadata": {
        "id": "ooHvxT8J4hWM"
      },
      "source": [
        "**Q:** Do you see any drastic change in the trend of the values in the identified column(s)? Write either yes or no. Justify your answer as well.\n",
        "\n",
        "**A:**"
      ]
    },
    {
      "cell_type": "markdown",
      "metadata": {
        "id": "SRpnUawFtXF4"
      },
      "source": [
        "---"
      ]
    },
    {
      "cell_type": "markdown",
      "metadata": {
        "id": "Bq3vondErR2b"
      },
      "source": [
        "#### 5.3 Convert Data-Types\n",
        "\n",
        "Convert the values in the `bath` and `balcony` columns to integer values."
      ]
    },
    {
      "cell_type": "code",
      "metadata": {
        "id": "3a0ovcoXxNF1"
      },
      "source": [
        "Ban_hp_df['balcony'] = Ban_hp_df['balcony'].astype(\"int\")"
      ],
      "execution_count": null,
      "outputs": []
    },
    {
      "cell_type": "code",
      "metadata": {
        "id": "EZT7SxIQqQft"
      },
      "source": [
        "# Convert the values in the 'bath' and 'balcony' columns to integer values.\n",
        "Ban_hp_df['balcony'] = Ban_hp_df['balcony'].astype(\"int\")"
      ],
      "execution_count": null,
      "outputs": []
    },
    {
      "cell_type": "code",
      "metadata": {
        "id": "02Blf5APsIUV",
        "colab": {
          "base_uri": "https://localhost:8080/"
        },
        "outputId": "54a55e30-fe71-49f6-9a84-c7105c048fee"
      },
      "source": [
        "# Print the data-types of the values in the 'bath' and 'balcony' columns.\n",
        "print(Ban_hp_df['bath'].dtype)\n",
        "print(Ban_hp_df['balcony'].dtype)"
      ],
      "execution_count": null,
      "outputs": [
        {
          "output_type": "stream",
          "text": [
            "float64\n",
            "int64\n"
          ],
          "name": "stdout"
        }
      ]
    },
    {
      "cell_type": "code",
      "metadata": {
        "id": "RYeY1a3Stphf",
        "colab": {
          "base_uri": "https://localhost:8080/",
          "height": 195
        },
        "outputId": "2c47a346-4dc6-4217-dcf9-02e30e6a33d1"
      },
      "source": [
        "# Display the first 5 rows of the DataFrame.\n",
        "Ban_hp_df.head()"
      ],
      "execution_count": null,
      "outputs": [
        {
          "output_type": "execute_result",
          "data": {
            "text/html": [
              "<div>\n",
              "<style scoped>\n",
              "    .dataframe tbody tr th:only-of-type {\n",
              "        vertical-align: middle;\n",
              "    }\n",
              "\n",
              "    .dataframe tbody tr th {\n",
              "        vertical-align: top;\n",
              "    }\n",
              "\n",
              "    .dataframe thead th {\n",
              "        text-align: right;\n",
              "    }\n",
              "</style>\n",
              "<table border=\"1\" class=\"dataframe\">\n",
              "  <thead>\n",
              "    <tr style=\"text-align: right;\">\n",
              "      <th></th>\n",
              "      <th>area_type</th>\n",
              "      <th>availability</th>\n",
              "      <th>location</th>\n",
              "      <th>size</th>\n",
              "      <th>total_sqft</th>\n",
              "      <th>bath</th>\n",
              "      <th>balcony</th>\n",
              "      <th>price</th>\n",
              "    </tr>\n",
              "  </thead>\n",
              "  <tbody>\n",
              "    <tr>\n",
              "      <th>0</th>\n",
              "      <td>Super built-up  Area</td>\n",
              "      <td>19-Dec</td>\n",
              "      <td>Electronic City Phase II</td>\n",
              "      <td>2 BHK</td>\n",
              "      <td>1056</td>\n",
              "      <td>2.0</td>\n",
              "      <td>1</td>\n",
              "      <td>39.07</td>\n",
              "    </tr>\n",
              "    <tr>\n",
              "      <th>1</th>\n",
              "      <td>Plot  Area</td>\n",
              "      <td>Ready To Move</td>\n",
              "      <td>Chikka Tirupathi</td>\n",
              "      <td>4 Bedroom</td>\n",
              "      <td>2600</td>\n",
              "      <td>5.0</td>\n",
              "      <td>3</td>\n",
              "      <td>120.00</td>\n",
              "    </tr>\n",
              "    <tr>\n",
              "      <th>2</th>\n",
              "      <td>Built-up  Area</td>\n",
              "      <td>Ready To Move</td>\n",
              "      <td>Uttarahalli</td>\n",
              "      <td>3 BHK</td>\n",
              "      <td>1440</td>\n",
              "      <td>2.0</td>\n",
              "      <td>3</td>\n",
              "      <td>62.00</td>\n",
              "    </tr>\n",
              "    <tr>\n",
              "      <th>3</th>\n",
              "      <td>Super built-up  Area</td>\n",
              "      <td>Ready To Move</td>\n",
              "      <td>Lingadheeranahalli</td>\n",
              "      <td>3 BHK</td>\n",
              "      <td>1521</td>\n",
              "      <td>3.0</td>\n",
              "      <td>1</td>\n",
              "      <td>95.00</td>\n",
              "    </tr>\n",
              "    <tr>\n",
              "      <th>4</th>\n",
              "      <td>Super built-up  Area</td>\n",
              "      <td>Ready To Move</td>\n",
              "      <td>Kothanur</td>\n",
              "      <td>2 BHK</td>\n",
              "      <td>1200</td>\n",
              "      <td>2.0</td>\n",
              "      <td>1</td>\n",
              "      <td>51.00</td>\n",
              "    </tr>\n",
              "  </tbody>\n",
              "</table>\n",
              "</div>"
            ],
            "text/plain": [
              "              area_type   availability  ... balcony   price\n",
              "0  Super built-up  Area         19-Dec  ...       1   39.07\n",
              "1            Plot  Area  Ready To Move  ...       3  120.00\n",
              "2        Built-up  Area  Ready To Move  ...       3   62.00\n",
              "3  Super built-up  Area  Ready To Move  ...       1   95.00\n",
              "4  Super built-up  Area  Ready To Move  ...       1   51.00\n",
              "\n",
              "[5 rows x 8 columns]"
            ]
          },
          "metadata": {
            "tags": []
          },
          "execution_count": 36
        }
      ]
    },
    {
      "cell_type": "markdown",
      "metadata": {
        "id": "hJ0MOdy_4QCU"
      },
      "source": [
        "---"
      ]
    },
    {
      "cell_type": "markdown",
      "metadata": {
        "id": "fZV1ZSS5CuTq"
      },
      "source": [
        "---"
      ]
    }
  ]
}
